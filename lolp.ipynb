{
 "metadata": {
  "language_info": {
   "codemirror_mode": {
    "name": "ipython",
    "version": 3
   },
   "file_extension": ".py",
   "mimetype": "text/x-python",
   "name": "python",
   "nbconvert_exporter": "python",
   "pygments_lexer": "ipython3",
   "version": "3.8.7-final"
  },
  "orig_nbformat": 2,
  "kernelspec": {
   "name": "python3",
   "display_name": "Python 3",
   "language": "python"
  }
 },
 "nbformat": 4,
 "nbformat_minor": 2,
 "cells": [
  {
   "cell_type": "code",
   "execution_count": 6,
   "metadata": {},
   "outputs": [
    {
     "output_type": "stream",
     "name": "stdout",
     "text": [
      "              Cap         FOR\ncount  420.000000  420.000000\nmean   155.847547    0.029957\nstd     39.841279    0.001456\nmin      9.834974    0.025180\n25%    127.322873    0.029037\n50%    155.783120    0.029931\n75%    183.657158    0.030932\nmax    286.575728    0.035077\nGeneration Capacity:65455.96972432703\n"
     ]
    }
   ],
   "source": [
    "import numpy as np\n",
    "import pandas as pd\n",
    "\n",
    "def genMaker(\n",
    "    mean_gen=145, mean_FOR=0.03, std_dev_gen=40, std_dev_FOR=0.0015, num_units=450\n",
    "):\n",
    "    return pd.DataFrame(\n",
    "        {\n",
    "            \"Cap\": np.random.normal(mean_gen, std_dev_gen, num_units),\n",
    "            \"FOR\": np.random.normal(mean_FOR, std_dev_FOR, num_units),\n",
    "        }\n",
    "    )\n",
    "\n",
    "peak_load = 62318\n",
    "\n",
    "gen = genMaker()\n",
    "while gen.Cap.sum() <= peak_load * 1.05:\n",
    "    gen = genMaker()\n",
    "print(f\"{gen.describe()}\\nGeneration Capacity:{gen.Cap.sum()}\")\n"
   ]
  },
  {
   "cell_type": "code",
   "execution_count": 8,
   "metadata": {},
   "outputs": [
    {
     "output_type": "stream",
     "name": "stdout",
     "text": [
      "LOLP:2.400%\n"
     ]
    }
   ],
   "source": [
    "def sim_peak(demand, gen, num_sims):\n",
    "    events = 0\n",
    "    for sim in range(num_sims):\n",
    "        Ui = np.random.random_sample()\n",
    "        available_gen = 0\n",
    "        for unit in range(len(gen)):\n",
    "            Ui = np.random.random_sample()\n",
    "            if Ui >= gen[\"FOR\"].iloc[unit]:\n",
    "                available_gen += gen[\"Cap\"].iloc[unit]\n",
    "        if demand >= available_gen:\n",
    "            events += 1\n",
    "    return events\n",
    "\n",
    "num_sims = 1000\n",
    "lolp = sim_peak(demand=peak_load, gen=gen, num_sims=num_sims) / num_sims\n",
    "print(f\"LOLP:{lolp*100:.3f}%\")\n"
   ]
  }
 ]
}