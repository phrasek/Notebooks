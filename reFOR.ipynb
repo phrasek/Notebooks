{
 "metadata": {
  "language_info": {
   "codemirror_mode": {
    "name": "ipython",
    "version": 3
   },
   "file_extension": ".py",
   "mimetype": "text/x-python",
   "name": "python",
   "nbconvert_exporter": "python",
   "pygments_lexer": "ipython3",
   "version": "3.9.1-final"
  },
  "orig_nbformat": 2,
  "kernelspec": {
   "name": "python3",
   "display_name": "Python 3.9.1 64-bit",
   "metadata": {
    "interpreter": {
     "hash": "6638ab2747fa4f97b2eb2dd601e1f2797fb33cea3fca46627f79072ad9bfd14f"
    }
   }
  }
 },
 "nbformat": 4,
 "nbformat_minor": 2,
 "cells": [
  {
   "cell_type": "code",
   "execution_count": 10,
   "metadata": {},
   "outputs": [
    {
     "output_type": "stream",
     "name": "stdout",
     "text": [
      "Case 1, each unit has EFOR = 1-CF\n              wind        solar    total_gen    net_power\ncount  8760.000000  8760.000000  8760.000000  8760.000000\nmean     50.961657    30.462124   230.181105    54.317205\nstd       7.066046     5.386099     9.402988    52.701618\nmin      26.429703    12.386139   197.290099  -137.725661\n25%      45.517822    27.249505   223.646535    28.873502\n50%      51.391089    30.965347   230.045545    71.621481\n75%      55.796040    33.442574   236.565347    91.978600\n90%      60.200990    37.158416   242.507327   105.771496\nmax      80.757426    53.260396   267.393069   144.903697\nNumber of times where demand exceeded supply: 1491\n"
     ]
    },
    {
     "output_type": "display_data",
     "data": {
      "text/plain": "Canvas(toolbar=Toolbar(toolitems=[('Home', 'Reset original view', 'home', 'home'), ('Back', 'Back to previous …",
      "application/vnd.jupyter.widget-view+json": {
       "version_major": 2,
       "version_minor": 0,
       "model_id": "71aeedba5a5742ac98a77601241e1154"
      }
     },
     "metadata": {}
    }
   ],
   "source": [
    "import pickle\n",
    "import pandas as pd\n",
    "import matplotlib.pyplot as plt\n",
    "%matplotlib ipympl\n",
    "# case 1, each unit has EFOR = 1-CF\n",
    "# case 2, each unit has no FOR, weather based generation profile\n",
    "# case 3, each unit has FOR and weather based generation profile\n",
    "# a conventional generator unit, a coal fired steam turbine, is included as 'con'\n",
    "\n",
    "with open(\"100avg.p\", \"rb\") as infile:\n",
    "    results = pickle.load(infile)\n",
    "\n",
    "    i=1\n",
    "    df1 = results[0]\n",
    "    print(f'Case 1, each unit has EFOR = 1-CF')\n",
    "    print(df1[['wind','solar','total_gen','net_power']].describe(percentiles=[.25,.5,.75,.9]))\n",
    "    print(\n",
    "        f'Number of times where demand exceeded supply: {df1[df1[\"net_power\"] < 0].net_power.count()}'\n",
    "    )\n",
    "    df1.net_power.clip(0,1).plot(kind=\"kde\",title=f\"Case {i} Load Satisfaction Density Plot\")\n"
   ]
  },
  {
   "cell_type": "code",
   "execution_count": 11,
   "metadata": {},
   "outputs": [
    {
     "output_type": "display_data",
     "data": {
      "text/plain": "Canvas(toolbar=Toolbar(toolitems=[('Home', 'Reset original view', 'home', 'home'), ('Back', 'Back to previous …",
      "application/vnd.jupyter.widget-view+json": {
       "version_major": 2,
       "version_minor": 0,
       "model_id": "6675a780b9ce47dbb6838cbae8c4bc43"
      }
     },
     "metadata": {}
    },
    {
     "output_type": "display_data",
     "data": {
      "text/plain": "Canvas(toolbar=Toolbar(toolitems=[('Home', 'Reset original view', 'home', 'home'), ('Back', 'Back to previous …",
      "application/vnd.jupyter.widget-view+json": {
       "version_major": 2,
       "version_minor": 0,
       "model_id": "cafde4c0013e4bac9478ec01600c6531"
      }
     },
     "metadata": {}
    },
    {
     "output_type": "execute_result",
     "data": {
      "text/plain": [
       "array([<AxesSubplot:>, <AxesSubplot:>, <AxesSubplot:>, <AxesSubplot:>,\n",
       "       <AxesSubplot:>, <AxesSubplot:>], dtype=object)"
      ]
     },
     "metadata": {},
     "execution_count": 11
    }
   ],
   "source": [
    "    df1.plot(subplots=True, kind=\"kde\", ind=8760, title=f\"Case {i} Density Plot\")\n",
    "    df1.plot(subplots=True,title=f\"Case {i} Annual Mean\")\n"
   ]
  },
  {
   "cell_type": "code",
   "execution_count": 12,
   "metadata": {},
   "outputs": [
    {
     "output_type": "stream",
     "name": "stdout",
     "text": [
      "Case 2, each unit has no FOR, weather based generation profile\n              wind        solar    total_gen    net_power\ncount  8760.000000  8760.000000  8760.000000  8760.000000\nmean     41.723002    34.247934   224.744728   -99.892964\nstd      49.016592    40.479267    60.492042    83.817306\nmin       0.000000     0.000000   138.118812  -339.401857\n25%       2.100000     0.000000   166.630693  -154.927382\n50%      17.450000     0.000000   226.426733  -106.811266\n75%      72.325000    81.500000   261.627723   -41.476868\n90%     131.700000    92.300000   298.137228    11.651403\nmax     148.300000   115.200000   408.430693   111.143910\nNumber of times where demand exceeded supply: 7652\n"
     ]
    },
    {
     "output_type": "execute_result",
     "data": {
      "text/plain": [
       "<AxesSubplot:title={'center':'Case 2 Load Satisfaction Density Plot'}, ylabel='Density'>"
      ]
     },
     "metadata": {},
     "execution_count": 12
    }
   ],
   "source": [
    "    i=2\n",
    "    df2 = results[1]\n",
    "    print(f'Case {i}, each unit has no FOR, weather based generation profile')\n",
    "    print(df2[['wind','solar','total_gen','net_power']].describe(percentiles=[.25,.5,.75,.9]))\n",
    "    print(\n",
    "        f'Number of times where demand exceeded supply: {df2[df2[\"net_power\"] < 0].net_power.count()}'\n",
    "    )\n",
    "    df2.net_power.clip(1,0).plot(kind=\"kde\",title=f\"Case {i} Load Satisfaction Density Plot\")\n"
   ]
  },
  {
   "cell_type": "code",
   "execution_count": 13,
   "metadata": {},
   "outputs": [
    {
     "output_type": "display_data",
     "data": {
      "text/plain": "Canvas(toolbar=Toolbar(toolitems=[('Home', 'Reset original view', 'home', 'home'), ('Back', 'Back to previous …",
      "application/vnd.jupyter.widget-view+json": {
       "version_major": 2,
       "version_minor": 0,
       "model_id": "3a9e8efb51d84bc98d23a1a0e1d0e15a"
      }
     },
     "metadata": {}
    },
    {
     "output_type": "display_data",
     "data": {
      "text/plain": "Canvas(toolbar=Toolbar(toolitems=[('Home', 'Reset original view', 'home', 'home'), ('Back', 'Back to previous …",
      "application/vnd.jupyter.widget-view+json": {
       "version_major": 2,
       "version_minor": 0,
       "model_id": "0ffbf885cc89432ab9abb4b58816079b"
      }
     },
     "metadata": {}
    },
    {
     "output_type": "execute_result",
     "data": {
      "text/plain": [
       "array([<AxesSubplot:>, <AxesSubplot:>, <AxesSubplot:>, <AxesSubplot:>,\n",
       "       <AxesSubplot:>, <AxesSubplot:>], dtype=object)"
      ]
     },
     "metadata": {},
     "execution_count": 13
    }
   ],
   "source": [
    "    df2.plot(subplots=True, kind=\"kde\", ind=8760, title=f\"Case {i} Density Plot\")\n",
    "    df2.plot(subplots=True,title=f\"Case {i} Annual Mean\")\n"
   ]
  },
  {
   "cell_type": "code",
   "execution_count": 14,
   "metadata": {},
   "outputs": [
    {
     "output_type": "stream",
     "name": "stdout",
     "text": [
      "Case 3, each unit has FOR and weather based generation profile\n              wind        solar    total_gen    net_power\ncount  8760.000000  8760.000000  8760.000000  8760.000000\nmean     39.626981    30.805757   190.438163    14.574263\nstd      46.573536    36.433793    56.297515    80.964922\nmin       0.000000     0.000000   110.148515  -220.951362\n25%       2.001980     0.000000   136.774010   -37.552216\n50%      16.574257     0.000000   191.650495     9.569545\n75%      68.476238    72.926733   224.784653    70.270332\n90%     124.978218    83.204356   261.667030   122.955092\nmax     148.100000   107.509901   360.485149   217.781915\nNumber of times where demand exceeded supply: 3911\n"
     ]
    },
    {
     "output_type": "execute_result",
     "data": {
      "text/plain": [
       "<AxesSubplot:title={'center':'Case 3 Load Satisfaction Density Plot'}, ylabel='Density'>"
      ]
     },
     "metadata": {},
     "execution_count": 14
    }
   ],
   "source": [
    "    i=3\n",
    "    df3 = results[2]\n",
    "    print(f'Case {i}, each unit has FOR and weather based generation profile')\n",
    "    print(df3[['wind','solar','total_gen','net_power']].describe(percentiles=[.25,.5,.75,.9]))\n",
    "    print(\n",
    "        f'Number of times where demand exceeded supply: {df3[df3[\"net_power\"] < 0].net_power.count()}'\n",
    "    )\n",
    "    df3.net_power.clip(1,0).plot(kind=\"kde\",title=f\"Case {i} Load Satisfaction Density Plot\")\n"
   ]
  },
  {
   "cell_type": "code",
   "execution_count": 15,
   "metadata": {},
   "outputs": [
    {
     "output_type": "display_data",
     "data": {
      "text/plain": "Canvas(toolbar=Toolbar(toolitems=[('Home', 'Reset original view', 'home', 'home'), ('Back', 'Back to previous …",
      "application/vnd.jupyter.widget-view+json": {
       "version_major": 2,
       "version_minor": 0,
       "model_id": "c8973d96c73e4469b6bebde9d0aa6d46"
      }
     },
     "metadata": {}
    },
    {
     "output_type": "display_data",
     "data": {
      "text/plain": "Canvas(toolbar=Toolbar(toolitems=[('Home', 'Reset original view', 'home', 'home'), ('Back', 'Back to previous …",
      "application/vnd.jupyter.widget-view+json": {
       "version_major": 2,
       "version_minor": 0,
       "model_id": "51908fce720747d48b6f3ae319582fa7"
      }
     },
     "metadata": {}
    },
    {
     "output_type": "execute_result",
     "data": {
      "text/plain": [
       "array([<AxesSubplot:>, <AxesSubplot:>, <AxesSubplot:>, <AxesSubplot:>,\n",
       "       <AxesSubplot:>, <AxesSubplot:>], dtype=object)"
      ]
     },
     "metadata": {},
     "execution_count": 15
    }
   ],
   "source": [
    "    df3.plot(subplots=True, kind=\"kde\", ind=8760, title=f\"Case {i} Density Plot\")\n",
    "    df3.plot(subplots=True,title=f\"Case {i} Annual Mean\")\n"
   ]
  }
 ]
}